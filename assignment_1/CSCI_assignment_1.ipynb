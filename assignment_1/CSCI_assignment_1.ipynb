{
  "nbformat": 4,
  "nbformat_minor": 0,
  "metadata": {
    "colab": {
      "name": "CSCI_assignment_1.ipynb",
      "provenance": [],
      "collapsed_sections": []
    },
    "kernelspec": {
      "name": "python3",
      "display_name": "Python 3"
    }
  },
  "cells": [
    {
      "cell_type": "code",
      "metadata": {
        "id": "zmRvr2AFUi7L"
      },
      "source": [
        "import pandas as pd\r\n",
        "import numpy as np\r\n"
      ],
      "execution_count": null,
      "outputs": []
    },
    {
      "cell_type": "code",
      "metadata": {
        "id": "GbnO1kEfUnDM"
      },
      "source": [
        "data=pd.read_csv(\"Sentiment_Annotation_2021.csv\")"
      ],
      "execution_count": null,
      "outputs": []
    },
    {
      "cell_type": "code",
      "metadata": {
        "colab": {
          "base_uri": "https://localhost:8080/",
          "height": 195
        },
        "id": "I5Q1ydemUwDU",
        "outputId": "3bf75802-2772-49a7-f692-e168fead17a0"
      },
      "source": [
        "data.head()"
      ],
      "execution_count": null,
      "outputs": [
        {
          "output_type": "execute_result",
          "data": {
            "text/html": [
              "<div>\n",
              "<style scoped>\n",
              "    .dataframe tbody tr th:only-of-type {\n",
              "        vertical-align: middle;\n",
              "    }\n",
              "\n",
              "    .dataframe tbody tr th {\n",
              "        vertical-align: top;\n",
              "    }\n",
              "\n",
              "    .dataframe thead th {\n",
              "        text-align: right;\n",
              "    }\n",
              "</style>\n",
              "<table border=\"1\" class=\"dataframe\">\n",
              "  <thead>\n",
              "    <tr style=\"text-align: right;\">\n",
              "      <th></th>\n",
              "      <th>id</th>\n",
              "      <th>annotator_1</th>\n",
              "      <th>annotator_2</th>\n",
              "      <th>annotator_3</th>\n",
              "      <th>majority_vote</th>\n",
              "    </tr>\n",
              "  </thead>\n",
              "  <tbody>\n",
              "    <tr>\n",
              "      <th>0</th>\n",
              "      <td>03bSnISJMiM_0001</td>\n",
              "      <td>1</td>\n",
              "      <td>1</td>\n",
              "      <td>1</td>\n",
              "      <td>1</td>\n",
              "    </tr>\n",
              "    <tr>\n",
              "      <th>1</th>\n",
              "      <td>03bSnISJMiM_0002</td>\n",
              "      <td>0</td>\n",
              "      <td>0</td>\n",
              "      <td>0</td>\n",
              "      <td>0</td>\n",
              "    </tr>\n",
              "    <tr>\n",
              "      <th>2</th>\n",
              "      <td>03bSnISJMiM_0003</td>\n",
              "      <td>0</td>\n",
              "      <td>0</td>\n",
              "      <td>-1</td>\n",
              "      <td>0</td>\n",
              "    </tr>\n",
              "    <tr>\n",
              "      <th>3</th>\n",
              "      <td>03bSnISJMiM_0004</td>\n",
              "      <td>-1</td>\n",
              "      <td>0</td>\n",
              "      <td>-1</td>\n",
              "      <td>-1</td>\n",
              "    </tr>\n",
              "    <tr>\n",
              "      <th>4</th>\n",
              "      <td>03bSnISJMiM_0005</td>\n",
              "      <td>0</td>\n",
              "      <td>0</td>\n",
              "      <td>0</td>\n",
              "      <td>0</td>\n",
              "    </tr>\n",
              "  </tbody>\n",
              "</table>\n",
              "</div>"
            ],
            "text/plain": [
              "                 id  annotator_1  annotator_2  annotator_3  majority_vote\n",
              "0  03bSnISJMiM_0001            1            1            1              1\n",
              "1  03bSnISJMiM_0002            0            0            0              0\n",
              "2  03bSnISJMiM_0003            0            0           -1              0\n",
              "3  03bSnISJMiM_0004           -1            0           -1             -1\n",
              "4  03bSnISJMiM_0005            0            0            0              0"
            ]
          },
          "metadata": {
            "tags": []
          },
          "execution_count": 4
        }
      ]
    },
    {
      "cell_type": "code",
      "metadata": {
        "colab": {
          "base_uri": "https://localhost:8080/"
        },
        "id": "KQoMYIzFV_0X",
        "outputId": "a2553f1c-3d39-4caa-dac2-c65986ee0432"
      },
      "source": [
        "!pip install statsmodels"
      ],
      "execution_count": null,
      "outputs": [
        {
          "output_type": "stream",
          "text": [
            "Requirement already satisfied: statsmodels in /usr/local/lib/python3.6/dist-packages (0.10.2)\n",
            "Requirement already satisfied: numpy>=1.11 in /usr/local/lib/python3.6/dist-packages (from statsmodels) (1.19.5)\n",
            "Requirement already satisfied: pandas>=0.19 in /usr/local/lib/python3.6/dist-packages (from statsmodels) (1.1.5)\n",
            "Requirement already satisfied: scipy>=0.18 in /usr/local/lib/python3.6/dist-packages (from statsmodels) (1.4.1)\n",
            "Requirement already satisfied: patsy>=0.4.0 in /usr/local/lib/python3.6/dist-packages (from statsmodels) (0.5.1)\n",
            "Requirement already satisfied: pytz>=2017.2 in /usr/local/lib/python3.6/dist-packages (from pandas>=0.19->statsmodels) (2018.9)\n",
            "Requirement already satisfied: python-dateutil>=2.7.3 in /usr/local/lib/python3.6/dist-packages (from pandas>=0.19->statsmodels) (2.8.1)\n",
            "Requirement already satisfied: six in /usr/local/lib/python3.6/dist-packages (from patsy>=0.4.0->statsmodels) (1.15.0)\n"
          ],
          "name": "stdout"
        }
      ]
    },
    {
      "cell_type": "code",
      "metadata": {
        "id": "QTcBbl4WVhWr",
        "colab": {
          "base_uri": "https://localhost:8080/"
        },
        "outputId": "be2907be-94a1-4bb1-e2a2-3b191214197a"
      },
      "source": [
        "\r\n",
        "import statsmodels as sm\r\n",
        "from statsmodels.stats.inter_rater import fleiss_kappa,aggregate_raters"
      ],
      "execution_count": null,
      "outputs": [
        {
          "output_type": "stream",
          "text": [
            "/usr/local/lib/python3.6/dist-packages/statsmodels/tools/_testing.py:19: FutureWarning: pandas.util.testing is deprecated. Use the functions in the public API at pandas.testing instead.\n",
            "  import pandas.util.testing as tm\n"
          ],
          "name": "stderr"
        }
      ]
    },
    {
      "cell_type": "code",
      "metadata": {
        "id": "ZlnGKWbl7mPh"
      },
      "source": [
        "kappa_data=np.array(data.iloc[:,1:-1])"
      ],
      "execution_count": null,
      "outputs": []
    },
    {
      "cell_type": "code",
      "metadata": {
        "colab": {
          "base_uri": "https://localhost:8080/"
        },
        "id": "M43rBz1-UxBR",
        "outputId": "965542ed-7c2c-4cbc-d49a-42bf455ec522"
      },
      "source": [
        "data_kappa= aggregate_raters(kappa_data)[0]\r\n",
        "data_kappa"
      ],
      "execution_count": null,
      "outputs": [
        {
          "output_type": "execute_result",
          "data": {
            "text/plain": [
              "array([[0, 0, 3],\n",
              "       [0, 3, 0],\n",
              "       [1, 2, 0],\n",
              "       ...,\n",
              "       [0, 3, 0],\n",
              "       [0, 2, 1],\n",
              "       [0, 3, 0]])"
            ]
          },
          "metadata": {
            "tags": []
          },
          "execution_count": 7
        }
      ]
    },
    {
      "cell_type": "code",
      "metadata": {
        "colab": {
          "base_uri": "https://localhost:8080/"
        },
        "id": "PXzzzLvI9STZ",
        "outputId": "050ed13e-1831-4670-ed14-6991ae3f2ef4"
      },
      "source": [
        "\r\n",
        "fleiss_kappa(data_kappa)"
      ],
      "execution_count": null,
      "outputs": [
        {
          "output_type": "execute_result",
          "data": {
            "text/plain": [
              "0.6503114154533796"
            ]
          },
          "metadata": {
            "tags": []
          },
          "execution_count": 8
        }
      ]
    },
    {
      "cell_type": "code",
      "metadata": {
        "colab": {
          "base_uri": "https://localhost:8080/"
        },
        "id": "j40HdP1SYvA_",
        "outputId": "ed03800d-3829-4bb2-a856-8f7fb286c60c"
      },
      "source": [
        "from sklearn.metrics import cohen_kappa_score\r\n",
        "\r\n",
        "print(cohen_kappa_score(data['annotator_1'], data['majority_vote']))"
      ],
      "execution_count": null,
      "outputs": [
        {
          "output_type": "stream",
          "text": [
            "0.8945509304299228\n"
          ],
          "name": "stdout"
        }
      ]
    },
    {
      "cell_type": "code",
      "metadata": {
        "colab": {
          "base_uri": "https://localhost:8080/"
        },
        "id": "ZKxiQE0bZnYh",
        "outputId": "3ea4562f-878f-45eb-fd56-d09044343301"
      },
      "source": [
        "from sklearn.metrics import cohen_kappa_score\r\n",
        "\r\n",
        "print(cohen_kappa_score(data['annotator_2'], data['majority_vote']))"
      ],
      "execution_count": null,
      "outputs": [
        {
          "output_type": "stream",
          "text": [
            "0.7841894954762489\n"
          ],
          "name": "stdout"
        }
      ]
    },
    {
      "cell_type": "code",
      "metadata": {
        "colab": {
          "base_uri": "https://localhost:8080/"
        },
        "id": "FoRk3IgRYm9i",
        "outputId": "1075aeca-8161-43a0-bc5a-78ed61dfa1b5"
      },
      "source": [
        "from sklearn.metrics import cohen_kappa_score\r\n",
        "\r\n",
        "print(cohen_kappa_score(data['annotator_3'], data['majority_vote']))"
      ],
      "execution_count": null,
      "outputs": [
        {
          "output_type": "stream",
          "text": [
            "0.7979960274129306\n"
          ],
          "name": "stdout"
        }
      ]
    },
    {
      "cell_type": "code",
      "metadata": {
        "id": "m0_zgYSPbfHa"
      },
      "source": [
        "from collections import Counter\r\n",
        "\r\n",
        "\r\n",
        "def majority_vote(x):\r\n",
        "    x=list(x)\r\n",
        "    val=x[0]\r\n",
        "    x.append(val)\r\n",
        "    result = Counter(x).most_common(2)\r\n",
        "    \r\n",
        "    if len(result)==1:\r\n",
        "      return result[0][0]\r\n",
        "    else:\r\n",
        "      return result[1][0] if result[0][1] == result[1][1] else result[0][0]\r\n"
      ],
      "execution_count": null,
      "outputs": []
    },
    {
      "cell_type": "code",
      "metadata": {
        "id": "Dq7S2TjkVn7z"
      },
      "source": [
        "data['new_majority'] = data[['annotator_1','annotator_2','annotator_3']].apply(lambda x:majority_vote(x.values),axis=1)"
      ],
      "execution_count": null,
      "outputs": []
    },
    {
      "cell_type": "code",
      "metadata": {
        "id": "k0BeS6Ukd9qe"
      },
      "source": [
        "data['new_majority'].to_csv('WeightedMajorityVote.csv',index=False)"
      ],
      "execution_count": null,
      "outputs": []
    },
    {
      "cell_type": "code",
      "metadata": {
        "colab": {
          "base_uri": "https://localhost:8080/"
        },
        "id": "fJL0suldabVm",
        "outputId": "9f549d1a-4593-4c16-dc22-2564076a0af0"
      },
      "source": [
        "data.iloc[13]"
      ],
      "execution_count": null,
      "outputs": [
        {
          "output_type": "execute_result",
          "data": {
            "text/plain": [
              "id               0h-zjBukYpk_0001\n",
              "annotator_1                     0\n",
              "annotator_2                     0\n",
              "annotator_3                     0\n",
              "majority_vote                   0\n",
              "new_majority                    0\n",
              "Name: 13, dtype: object"
            ]
          },
          "metadata": {
            "tags": []
          },
          "execution_count": 50
        }
      ]
    },
    {
      "cell_type": "code",
      "metadata": {
        "id": "_iKfrEFonrG5"
      },
      "source": [
        ""
      ],
      "execution_count": null,
      "outputs": []
    },
    {
      "cell_type": "code",
      "metadata": {
        "id": "bX4ZtV4YpNJ1"
      },
      "source": [
        "from scipy.stats import pearsonr"
      ],
      "execution_count": null,
      "outputs": []
    },
    {
      "cell_type": "markdown",
      "metadata": {
        "id": "8BhdwJmpR2Qg"
      },
      "source": [
        " 0h-zjBukYpk * video Clips"
      ]
    },
    {
      "cell_type": "markdown",
      "metadata": {
        "id": "Fv13yAFvp1rH"
      },
      "source": [
        "Feature : Tone+ expression"
      ]
    },
    {
      "cell_type": "code",
      "metadata": {
        "id": "KHTDCdrYcJbm"
      },
      "source": [
        "my_vote_1_f1=[0,#1\r\n",
        "            -1,#2\r\n",
        "            0,#3\r\n",
        "            -1,#4\r\n",
        "            0,#5\r\n",
        "            -1,#6\r\n",
        "            0, #7\r\n",
        "           0,#8\r\n",
        "           1,#9\r\n",
        "           0,#10\r\n",
        "           1,#11\r\n",
        "           0,#12\r\n",
        "           -1,#13\r\n",
        "           0,#14\r\n",
        "           0,#15\r\n",
        "           0,#16\r\n",
        "           -1,#17\r\n",
        "           -1,#18\r\n",
        "           -1,#19\r\n",
        "           0,#20\r\n",
        "           1,#21\r\n",
        "           1,#22\r\n",
        "           0,#23\r\n",
        "           0,#24\r\n",
        "           1#25\r\n",
        "           ]"
      ],
      "execution_count": null,
      "outputs": []
    },
    {
      "cell_type": "code",
      "metadata": {
        "colab": {
          "base_uri": "https://localhost:8080/"
        },
        "id": "6RNiCPZXq4EP",
        "outputId": "9943d6ee-03d3-42e3-df7e-4f63b82dd862"
      },
      "source": [
        "print(\"PCC for video set 1 with feature 1\",pearsonr(my_vote_1_f1,data['majority_vote'][13:38])[0])"
      ],
      "execution_count": null,
      "outputs": [
        {
          "output_type": "stream",
          "text": [
            "PCC for video set 1 with feature 1 0.6169526972391243\n"
          ],
          "name": "stdout"
        }
      ]
    },
    {
      "cell_type": "markdown",
      "metadata": {
        "id": "nm1O_BOuqFA8"
      },
      "source": [
        "Feature: Gaze \r\n"
      ]
    },
    {
      "cell_type": "code",
      "metadata": {
        "id": "oHhaikwErPW9"
      },
      "source": [
        "my_vote_1_f2=[0,#1\r\n",
        "            -1,#2\r\n",
        "            -1,#3\r\n",
        "            -1,#4\r\n",
        "            0,#5\r\n",
        "            0,#6\r\n",
        "            1, #7\r\n",
        "           1,#8\r\n",
        "           0,#9\r\n",
        "           0,#10\r\n",
        "           1,#11\r\n",
        "           0,#12\r\n",
        "           0,#13\r\n",
        "           1,#14\r\n",
        "           -1,#15\r\n",
        "           1,#16\r\n",
        "           1,#17\r\n",
        "           -1,#18\r\n",
        "           -1,#19\r\n",
        "           0,#20\r\n",
        "           1,#21\r\n",
        "           0,#22\r\n",
        "           0,#23\r\n",
        "           1,#24\r\n",
        "           1#25\r\n",
        "           ]\r\n"
      ],
      "execution_count": null,
      "outputs": []
    },
    {
      "cell_type": "code",
      "metadata": {
        "colab": {
          "base_uri": "https://localhost:8080/"
        },
        "id": "1U0sBfWRqVCE",
        "outputId": "655ad129-b73e-4617-d4f1-87713d4ba4c5"
      },
      "source": [
        "print(\"PCC for video set 1 with feature 2\",pearsonr(my_vote_1_f2,data['majority_vote'][13:38])[0])"
      ],
      "execution_count": null,
      "outputs": [
        {
          "output_type": "stream",
          "text": [
            "PCC for video set 1 with feature 2 0.590392279690576\n"
          ],
          "name": "stdout"
        }
      ]
    },
    {
      "cell_type": "markdown",
      "metadata": {
        "id": "_2gtWc0pR_n5"
      },
      "source": [
        " 1DmNV9C1hbY * Video Clips"
      ]
    },
    {
      "cell_type": "markdown",
      "metadata": {
        "id": "eZwGJ4JgqjjP"
      },
      "source": [
        "Feature : Tone+ expression"
      ]
    },
    {
      "cell_type": "code",
      "metadata": {
        "id": "8wx5OeAXqljE"
      },
      "source": [
        "my_vote_2_f1=[0,#1\r\n",
        "            1,#2\r\n",
        "             0,#3\r\n",
        "            1,#4\r\n",
        "            -1,#5\r\n",
        "            -1,#6\r\n",
        "            0, #7\r\n",
        "           -1,#8\r\n",
        "           1,#9\r\n",
        "           1,#10\r\n",
        "           0,#11\r\n",
        "           1,#12\r\n",
        "           0,#13\r\n",
        "           -1,#14\r\n",
        "]"
      ],
      "execution_count": 20,
      "outputs": []
    },
    {
      "cell_type": "code",
      "metadata": {
        "colab": {
          "base_uri": "https://localhost:8080/"
        },
        "id": "ZTJC16PStCem",
        "outputId": "151fad1d-b51a-45a4-8398-8b2eeff8a18e"
      },
      "source": [
        "print(\"PCC for video set 2 with feature 1\",pearsonr(my_vote_2_f1,data['majority_vote'][38:52])[0])"
      ],
      "execution_count": 21,
      "outputs": [
        {
          "output_type": "stream",
          "text": [
            "PCC for video set 2 with feature 1 0.7669649888473705\n"
          ],
          "name": "stdout"
        }
      ]
    },
    {
      "cell_type": "markdown",
      "metadata": {
        "id": "WS95VKmJq2T7"
      },
      "source": [
        "Feature: Gaze"
      ]
    },
    {
      "cell_type": "code",
      "metadata": {
        "id": "Hy6tGmVytNRp"
      },
      "source": [
        "my_vote_2_f2=[0,#1\r\n",
        "            1,#2\r\n",
        "            1,#3\r\n",
        "            1,#4\r\n",
        "            1,#5\r\n",
        "            -1,#6\r\n",
        "            0, #7\r\n",
        "           -1,#8\r\n",
        "           1,#9\r\n",
        "           0,#10\r\n",
        "           -1,#11\r\n",
        "           0,#12\r\n",
        "           -1,#13\r\n",
        "           -1,#14\r\n",
        "]"
      ],
      "execution_count": 26,
      "outputs": []
    },
    {
      "cell_type": "code",
      "metadata": {
        "colab": {
          "base_uri": "https://localhost:8080/"
        },
        "id": "0nLqLXAOq6_R",
        "outputId": "48377258-520f-44bd-bc00-f4cc08673cfd"
      },
      "source": [
        "print(\"PCC for video set 2 with feature 2\",pearsonr(my_vote_2_f2,data['majority_vote'][38:52])[0])"
      ],
      "execution_count": 27,
      "outputs": [
        {
          "output_type": "stream",
          "text": [
            "PCC for video set 2 with feature 2 0.7102195186742493\n"
          ],
          "name": "stdout"
        }
      ]
    },
    {
      "cell_type": "code",
      "metadata": {
        "id": "-Ua1k9DfKbVO"
      },
      "source": [
        ""
      ],
      "execution_count": null,
      "outputs": []
    }
  ]
}