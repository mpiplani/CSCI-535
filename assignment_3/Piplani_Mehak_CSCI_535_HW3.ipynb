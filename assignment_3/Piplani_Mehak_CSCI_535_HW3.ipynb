{
  "nbformat": 4,
  "nbformat_minor": 0,
  "metadata": {
    "colab": {
      "name": "CSCI_535_HW3.ipynb",
      "provenance": [],
      "collapsed_sections": []
    },
    "kernelspec": {
      "name": "python3",
      "display_name": "Python 3"
    },
    "language_info": {
      "name": "python"
    }
  },
  "cells": [
    {
      "cell_type": "code",
      "metadata": {
        "id": "JlLIr1h2WTRZ"
      },
      "source": [
        "import pandas as pd"
      ],
      "execution_count": null,
      "outputs": []
    },
    {
      "cell_type": "code",
      "metadata": {
        "id": "sGgohBg0WtRD"
      },
      "source": [
        "data=pd.read_csv('data.csv')"
      ],
      "execution_count": null,
      "outputs": []
    },
    {
      "cell_type": "code",
      "metadata": {
        "colab": {
          "base_uri": "https://localhost:8080/",
          "height": 316
        },
        "id": "YOG_Yn_zWxn3",
        "outputId": "9cba6e7b-bf4d-4925-c9ff-e509bcdc19be"
      },
      "source": [
        "data.head()"
      ],
      "execution_count": null,
      "outputs": [
        {
          "output_type": "execute_result",
          "data": {
            "text/html": [
              "<div>\n",
              "<style scoped>\n",
              "    .dataframe tbody tr th:only-of-type {\n",
              "        vertical-align: middle;\n",
              "    }\n",
              "\n",
              "    .dataframe tbody tr th {\n",
              "        vertical-align: top;\n",
              "    }\n",
              "\n",
              "    .dataframe thead th {\n",
              "        text-align: right;\n",
              "    }\n",
              "</style>\n",
              "<table border=\"1\" class=\"dataframe\">\n",
              "  <thead>\n",
              "    <tr style=\"text-align: right;\">\n",
              "      <th></th>\n",
              "      <th>Filename</th>\n",
              "      <th>Image #</th>\n",
              "      <th>Gender</th>\n",
              "      <th>Race</th>\n",
              "      <th>Confident</th>\n",
              "      <th>Egotistic</th>\n",
              "      <th>Intelligent</th>\n",
              "      <th>Kind</th>\n",
              "      <th>Responsible</th>\n",
              "      <th>Trustworthy</th>\n",
              "      <th>Aggressive</th>\n",
              "      <th>Caring</th>\n",
              "      <th>Emotional</th>\n",
              "      <th>Friendly</th>\n",
              "      <th>Sociable</th>\n",
              "      <th>Qualified</th>\n",
              "    </tr>\n",
              "  </thead>\n",
              "  <tbody>\n",
              "    <tr>\n",
              "      <th>0</th>\n",
              "      <td>Google_1_Danielle Goble_5_oval.jpg</td>\n",
              "      <td>1</td>\n",
              "      <td>1</td>\n",
              "      <td>1</td>\n",
              "      <td>5.67</td>\n",
              "      <td>3.67</td>\n",
              "      <td>5.60</td>\n",
              "      <td>5.00</td>\n",
              "      <td>5.80</td>\n",
              "      <td>5.33</td>\n",
              "      <td>4.80</td>\n",
              "      <td>4.67</td>\n",
              "      <td>3.67</td>\n",
              "      <td>4.33</td>\n",
              "      <td>4.67</td>\n",
              "      <td>0</td>\n",
              "    </tr>\n",
              "    <tr>\n",
              "      <th>1</th>\n",
              "      <td>Google_1_Phillip Owensby_9_oval.jpg</td>\n",
              "      <td>2</td>\n",
              "      <td>0</td>\n",
              "      <td>1</td>\n",
              "      <td>6.53</td>\n",
              "      <td>2.20</td>\n",
              "      <td>6.60</td>\n",
              "      <td>7.00</td>\n",
              "      <td>7.47</td>\n",
              "      <td>6.73</td>\n",
              "      <td>3.13</td>\n",
              "      <td>6.93</td>\n",
              "      <td>5.80</td>\n",
              "      <td>6.73</td>\n",
              "      <td>6.60</td>\n",
              "      <td>1</td>\n",
              "    </tr>\n",
              "    <tr>\n",
              "      <th>2</th>\n",
              "      <td>Google_1_Douglas Ziegler_3_oval.jpg</td>\n",
              "      <td>3</td>\n",
              "      <td>1</td>\n",
              "      <td>1</td>\n",
              "      <td>6.07</td>\n",
              "      <td>3.60</td>\n",
              "      <td>6.47</td>\n",
              "      <td>6.47</td>\n",
              "      <td>6.67</td>\n",
              "      <td>6.40</td>\n",
              "      <td>2.40</td>\n",
              "      <td>6.07</td>\n",
              "      <td>5.14</td>\n",
              "      <td>6.67</td>\n",
              "      <td>6.67</td>\n",
              "      <td>0</td>\n",
              "    </tr>\n",
              "    <tr>\n",
              "      <th>3</th>\n",
              "      <td>Google_1_Donald Sauls_11_oval.jpg</td>\n",
              "      <td>4</td>\n",
              "      <td>1</td>\n",
              "      <td>2</td>\n",
              "      <td>4.80</td>\n",
              "      <td>4.60</td>\n",
              "      <td>4.47</td>\n",
              "      <td>3.80</td>\n",
              "      <td>4.27</td>\n",
              "      <td>3.87</td>\n",
              "      <td>5.80</td>\n",
              "      <td>3.53</td>\n",
              "      <td>2.80</td>\n",
              "      <td>2.93</td>\n",
              "      <td>3.27</td>\n",
              "      <td>0</td>\n",
              "    </tr>\n",
              "    <tr>\n",
              "      <th>4</th>\n",
              "      <td>Google_1_Eric Harman_5_oval.jpg</td>\n",
              "      <td>5</td>\n",
              "      <td>1</td>\n",
              "      <td>6</td>\n",
              "      <td>6.67</td>\n",
              "      <td>5.40</td>\n",
              "      <td>6.33</td>\n",
              "      <td>4.87</td>\n",
              "      <td>5.87</td>\n",
              "      <td>4.67</td>\n",
              "      <td>4.27</td>\n",
              "      <td>4.07</td>\n",
              "      <td>4.80</td>\n",
              "      <td>5.20</td>\n",
              "      <td>5.33</td>\n",
              "      <td>1</td>\n",
              "    </tr>\n",
              "  </tbody>\n",
              "</table>\n",
              "</div>"
            ],
            "text/plain": [
              "                              Filename  Image #  ...  Sociable  Qualified\n",
              "0   Google_1_Danielle Goble_5_oval.jpg        1  ...      4.67          0\n",
              "1  Google_1_Phillip Owensby_9_oval.jpg        2  ...      6.60          1\n",
              "2  Google_1_Douglas Ziegler_3_oval.jpg        3  ...      6.67          0\n",
              "3    Google_1_Donald Sauls_11_oval.jpg        4  ...      3.27          0\n",
              "4      Google_1_Eric Harman_5_oval.jpg        5  ...      5.33          1\n",
              "\n",
              "[5 rows x 16 columns]"
            ]
          },
          "metadata": {
            "tags": []
          },
          "execution_count": 3
        }
      ]
    },
    {
      "cell_type": "markdown",
      "metadata": {
        "id": "8BvFX6z8CP-r"
      },
      "source": [
        "Subset of data based on race only considering Race = 1,2,3"
      ]
    },
    {
      "cell_type": "code",
      "metadata": {
        "id": "uN9cxD42aa5k"
      },
      "source": [
        "data_race=data.drop(['Gender','Image #'],axis=1)"
      ],
      "execution_count": null,
      "outputs": []
    },
    {
      "cell_type": "code",
      "metadata": {
        "id": "YDXKnaz5mK4A"
      },
      "source": [
        "data_race=data_race[data_race[\"Race\"].isin([1,2, 3])]"
      ],
      "execution_count": null,
      "outputs": []
    },
    {
      "cell_type": "code",
      "metadata": {
        "id": "w9ARN1zBmTy_"
      },
      "source": [
        "from collections import Counter"
      ],
      "execution_count": null,
      "outputs": []
    },
    {
      "cell_type": "code",
      "metadata": {
        "colab": {
          "base_uri": "https://localhost:8080/"
        },
        "id": "OzyfiDmDmXBd",
        "outputId": "ec135866-fca7-4836-99e8-6ae29550d2bd"
      },
      "source": [
        "Counter(data_race[\"Race\"])"
      ],
      "execution_count": null,
      "outputs": [
        {
          "output_type": "execute_result",
          "data": {
            "text/plain": [
              "Counter({1: 1836, 2: 220, 3: 63})"
            ]
          },
          "metadata": {
            "tags": []
          },
          "execution_count": 7
        }
      ]
    },
    {
      "cell_type": "code",
      "metadata": {
        "id": "r5yahXpSLC_o"
      },
      "source": [
        "data_gender=data.drop(['Race','Image #'],axis=1)"
      ],
      "execution_count": null,
      "outputs": []
    },
    {
      "cell_type": "code",
      "metadata": {
        "id": "ZNywq5BQXL59"
      },
      "source": [
        "race = data_race.groupby(by=[\"Race\"]).mean()"
      ],
      "execution_count": null,
      "outputs": []
    },
    {
      "cell_type": "code",
      "metadata": {
        "colab": {
          "base_uri": "https://localhost:8080/",
          "height": 166
        },
        "id": "57DTpCGTXuhh",
        "outputId": "441c5e00-2d6f-4eb3-a179-52e87ccf274c"
      },
      "source": [
        "race"
      ],
      "execution_count": null,
      "outputs": [
        {
          "output_type": "execute_result",
          "data": {
            "text/html": [
              "<div>\n",
              "<style scoped>\n",
              "    .dataframe tbody tr th:only-of-type {\n",
              "        vertical-align: middle;\n",
              "    }\n",
              "\n",
              "    .dataframe tbody tr th {\n",
              "        vertical-align: top;\n",
              "    }\n",
              "\n",
              "    .dataframe thead th {\n",
              "        text-align: right;\n",
              "    }\n",
              "</style>\n",
              "<table border=\"1\" class=\"dataframe\">\n",
              "  <thead>\n",
              "    <tr style=\"text-align: right;\">\n",
              "      <th></th>\n",
              "      <th>Confident</th>\n",
              "      <th>Egotistic</th>\n",
              "      <th>Intelligent</th>\n",
              "      <th>Kind</th>\n",
              "      <th>Responsible</th>\n",
              "      <th>Trustworthy</th>\n",
              "      <th>Aggressive</th>\n",
              "      <th>Caring</th>\n",
              "      <th>Emotional</th>\n",
              "      <th>Friendly</th>\n",
              "      <th>Sociable</th>\n",
              "      <th>Qualified</th>\n",
              "    </tr>\n",
              "    <tr>\n",
              "      <th>Race</th>\n",
              "      <th></th>\n",
              "      <th></th>\n",
              "      <th></th>\n",
              "      <th></th>\n",
              "      <th></th>\n",
              "      <th></th>\n",
              "      <th></th>\n",
              "      <th></th>\n",
              "      <th></th>\n",
              "      <th></th>\n",
              "      <th></th>\n",
              "      <th></th>\n",
              "    </tr>\n",
              "  </thead>\n",
              "  <tbody>\n",
              "    <tr>\n",
              "      <th>1</th>\n",
              "      <td>5.925109</td>\n",
              "      <td>4.057195</td>\n",
              "      <td>5.863676</td>\n",
              "      <td>5.715496</td>\n",
              "      <td>5.905479</td>\n",
              "      <td>5.645065</td>\n",
              "      <td>3.636961</td>\n",
              "      <td>5.580169</td>\n",
              "      <td>4.869951</td>\n",
              "      <td>5.867516</td>\n",
              "      <td>5.851906</td>\n",
              "      <td>0.183007</td>\n",
              "    </tr>\n",
              "    <tr>\n",
              "      <th>2</th>\n",
              "      <td>5.967909</td>\n",
              "      <td>4.322545</td>\n",
              "      <td>5.528636</td>\n",
              "      <td>5.404500</td>\n",
              "      <td>5.514227</td>\n",
              "      <td>5.346682</td>\n",
              "      <td>4.128409</td>\n",
              "      <td>5.305455</td>\n",
              "      <td>4.732318</td>\n",
              "      <td>5.498636</td>\n",
              "      <td>5.647455</td>\n",
              "      <td>0.122727</td>\n",
              "    </tr>\n",
              "    <tr>\n",
              "      <th>3</th>\n",
              "      <td>5.836190</td>\n",
              "      <td>3.604444</td>\n",
              "      <td>6.317937</td>\n",
              "      <td>5.857302</td>\n",
              "      <td>6.146032</td>\n",
              "      <td>5.866508</td>\n",
              "      <td>3.217619</td>\n",
              "      <td>5.751429</td>\n",
              "      <td>4.845238</td>\n",
              "      <td>6.043333</td>\n",
              "      <td>5.830635</td>\n",
              "      <td>0.174603</td>\n",
              "    </tr>\n",
              "  </tbody>\n",
              "</table>\n",
              "</div>"
            ],
            "text/plain": [
              "      Confident  Egotistic  Intelligent  ...  Friendly  Sociable  Qualified\n",
              "Race                                     ...                               \n",
              "1      5.925109   4.057195     5.863676  ...  5.867516  5.851906   0.183007\n",
              "2      5.967909   4.322545     5.528636  ...  5.498636  5.647455   0.122727\n",
              "3      5.836190   3.604444     6.317937  ...  6.043333  5.830635   0.174603\n",
              "\n",
              "[3 rows x 12 columns]"
            ]
          },
          "metadata": {
            "tags": []
          },
          "execution_count": 10
        }
      ]
    },
    {
      "cell_type": "code",
      "metadata": {
        "id": "nNW8-_HXXvKo"
      },
      "source": [
        "race = data_race.groupby(by=[\"Race\"]).median()"
      ],
      "execution_count": null,
      "outputs": []
    },
    {
      "cell_type": "code",
      "metadata": {
        "id": "67HM2B6HaydA",
        "colab": {
          "base_uri": "https://localhost:8080/",
          "height": 166
        },
        "outputId": "7102b142-e48a-405d-85ab-3ac43eea3aa2"
      },
      "source": [
        "race"
      ],
      "execution_count": null,
      "outputs": [
        {
          "output_type": "execute_result",
          "data": {
            "text/html": [
              "<div>\n",
              "<style scoped>\n",
              "    .dataframe tbody tr th:only-of-type {\n",
              "        vertical-align: middle;\n",
              "    }\n",
              "\n",
              "    .dataframe tbody tr th {\n",
              "        vertical-align: top;\n",
              "    }\n",
              "\n",
              "    .dataframe thead th {\n",
              "        text-align: right;\n",
              "    }\n",
              "</style>\n",
              "<table border=\"1\" class=\"dataframe\">\n",
              "  <thead>\n",
              "    <tr style=\"text-align: right;\">\n",
              "      <th></th>\n",
              "      <th>Confident</th>\n",
              "      <th>Egotistic</th>\n",
              "      <th>Intelligent</th>\n",
              "      <th>Kind</th>\n",
              "      <th>Responsible</th>\n",
              "      <th>Trustworthy</th>\n",
              "      <th>Aggressive</th>\n",
              "      <th>Caring</th>\n",
              "      <th>Emotional</th>\n",
              "      <th>Friendly</th>\n",
              "      <th>Sociable</th>\n",
              "      <th>Qualified</th>\n",
              "    </tr>\n",
              "    <tr>\n",
              "      <th>Race</th>\n",
              "      <th></th>\n",
              "      <th></th>\n",
              "      <th></th>\n",
              "      <th></th>\n",
              "      <th></th>\n",
              "      <th></th>\n",
              "      <th></th>\n",
              "      <th></th>\n",
              "      <th></th>\n",
              "      <th></th>\n",
              "      <th></th>\n",
              "      <th></th>\n",
              "    </tr>\n",
              "  </thead>\n",
              "  <tbody>\n",
              "    <tr>\n",
              "      <th>1</th>\n",
              "      <td>6.03</td>\n",
              "      <td>4.00</td>\n",
              "      <td>6.00</td>\n",
              "      <td>5.930</td>\n",
              "      <td>6.07</td>\n",
              "      <td>5.80</td>\n",
              "      <td>3.40</td>\n",
              "      <td>5.80</td>\n",
              "      <td>4.87</td>\n",
              "      <td>6.19</td>\n",
              "      <td>6.07</td>\n",
              "      <td>0</td>\n",
              "    </tr>\n",
              "    <tr>\n",
              "      <th>2</th>\n",
              "      <td>6.13</td>\n",
              "      <td>4.20</td>\n",
              "      <td>5.70</td>\n",
              "      <td>5.835</td>\n",
              "      <td>5.80</td>\n",
              "      <td>5.67</td>\n",
              "      <td>3.73</td>\n",
              "      <td>5.73</td>\n",
              "      <td>4.73</td>\n",
              "      <td>5.93</td>\n",
              "      <td>6.13</td>\n",
              "      <td>0</td>\n",
              "    </tr>\n",
              "    <tr>\n",
              "      <th>3</th>\n",
              "      <td>5.87</td>\n",
              "      <td>3.33</td>\n",
              "      <td>6.47</td>\n",
              "      <td>6.190</td>\n",
              "      <td>6.27</td>\n",
              "      <td>6.00</td>\n",
              "      <td>2.93</td>\n",
              "      <td>6.00</td>\n",
              "      <td>4.93</td>\n",
              "      <td>6.33</td>\n",
              "      <td>6.07</td>\n",
              "      <td>0</td>\n",
              "    </tr>\n",
              "  </tbody>\n",
              "</table>\n",
              "</div>"
            ],
            "text/plain": [
              "      Confident  Egotistic  Intelligent  ...  Friendly  Sociable  Qualified\n",
              "Race                                     ...                               \n",
              "1          6.03       4.00         6.00  ...      6.19      6.07          0\n",
              "2          6.13       4.20         5.70  ...      5.93      6.13          0\n",
              "3          5.87       3.33         6.47  ...      6.33      6.07          0\n",
              "\n",
              "[3 rows x 12 columns]"
            ]
          },
          "metadata": {
            "tags": []
          },
          "execution_count": 12
        }
      ]
    },
    {
      "cell_type": "code",
      "metadata": {
        "id": "B621JLuqADUO"
      },
      "source": [
        "results={}"
      ],
      "execution_count": null,
      "outputs": []
    },
    {
      "cell_type": "markdown",
      "metadata": {
        "id": "B06v3cJ2CaBM"
      },
      "source": [
        "Performing Anova tests for all traits"
      ]
    },
    {
      "cell_type": "code",
      "metadata": {
        "id": "B5PEDtlVxgql"
      },
      "source": [
        "from scipy.stats import f_oneway"
      ],
      "execution_count": null,
      "outputs": []
    },
    {
      "cell_type": "code",
      "metadata": {
        "colab": {
          "base_uri": "https://localhost:8080/"
        },
        "id": "QSDD4y09xwL_",
        "outputId": "7dd5c1e6-c517-4153-9868-2c97810ef666"
      },
      "source": [
        "cols = data.columns\n",
        "cols = cols[4:-1]\n",
        "cols"
      ],
      "execution_count": null,
      "outputs": [
        {
          "output_type": "execute_result",
          "data": {
            "text/plain": [
              "Index(['Confident', 'Egotistic', 'Intelligent', 'Kind', 'Responsible',\n",
              "       'Trustworthy', 'Aggressive', 'Caring', 'Emotional', 'Friendly',\n",
              "       'Sociable'],\n",
              "      dtype='object')"
            ]
          },
          "metadata": {
            "tags": []
          },
          "execution_count": 16
        }
      ]
    },
    {
      "cell_type": "code",
      "metadata": {
        "id": "lKT44E1MyMO0"
      },
      "source": [
        "race_1  = data_race[data_race['Race']==1]\n",
        "race_2  = data_race[data_race['Race']==2]\n",
        "race_3  = data_race[data_race['Race']==3]"
      ],
      "execution_count": null,
      "outputs": []
    },
    {
      "cell_type": "code",
      "metadata": {
        "id": "wUBdLVqkx3QQ"
      },
      "source": [
        "for i in cols:\n",
        "  results[(\"Race\",i)] = f_oneway(race_1[i],race_2[i],race_3[i])[1]"
      ],
      "execution_count": null,
      "outputs": []
    },
    {
      "cell_type": "markdown",
      "metadata": {
        "id": "OUMCtE8JCd6t"
      },
      "source": [
        "P values for Anova tests"
      ]
    },
    {
      "cell_type": "code",
      "metadata": {
        "colab": {
          "base_uri": "https://localhost:8080/"
        },
        "id": "VE_OmmGExiSv",
        "outputId": "f771b578-b28c-453d-e4d9-8c3a7c391754"
      },
      "source": [
        "results"
      ],
      "execution_count": null,
      "outputs": [
        {
          "output_type": "execute_result",
          "data": {
            "text/plain": [
              "{('Race', 'Aggressive'): 2.7078370672104353e-11,\n",
              " ('Race', 'Caring'): 0.00041893692225684995,\n",
              " ('Race', 'Confident'): 0.5125652685487156,\n",
              " ('Race', 'Egotistic'): 1.4412211501758323e-07,\n",
              " ('Race', 'Emotional'): 0.02319487807768113,\n",
              " ('Race', 'Friendly'): 4.9774464052824096e-05,\n",
              " ('Race', 'Intelligent'): 1.6711926732092035e-15,\n",
              " ('Race', 'Kind'): 0.00012878104123732718,\n",
              " ('Race', 'Responsible'): 8.005057161350754e-11,\n",
              " ('Race', 'Sociable'): 0.03449616164486741,\n",
              " ('Race', 'Trustworthy'): 3.672594877204227e-06}"
            ]
          },
          "metadata": {
            "tags": []
          },
          "execution_count": 28
        }
      ]
    },
    {
      "cell_type": "markdown",
      "metadata": {
        "id": "fz8U9oGfCmhy"
      },
      "source": [
        "Subset of data based on gender"
      ]
    },
    {
      "cell_type": "code",
      "metadata": {
        "id": "BtkFQp5eK6qP"
      },
      "source": [
        "gender = data_gender.groupby(by=[\"Gender\"]).median()"
      ],
      "execution_count": null,
      "outputs": []
    },
    {
      "cell_type": "code",
      "metadata": {
        "colab": {
          "base_uri": "https://localhost:8080/",
          "height": 136
        },
        "id": "TMY0G4cULKje",
        "outputId": "cf8e6dc7-3a55-4344-e3e5-b4523754e418"
      },
      "source": [
        "gender"
      ],
      "execution_count": null,
      "outputs": [
        {
          "output_type": "execute_result",
          "data": {
            "text/html": [
              "<div>\n",
              "<style scoped>\n",
              "    .dataframe tbody tr th:only-of-type {\n",
              "        vertical-align: middle;\n",
              "    }\n",
              "\n",
              "    .dataframe tbody tr th {\n",
              "        vertical-align: top;\n",
              "    }\n",
              "\n",
              "    .dataframe thead th {\n",
              "        text-align: right;\n",
              "    }\n",
              "</style>\n",
              "<table border=\"1\" class=\"dataframe\">\n",
              "  <thead>\n",
              "    <tr style=\"text-align: right;\">\n",
              "      <th></th>\n",
              "      <th>Confident</th>\n",
              "      <th>Egotistic</th>\n",
              "      <th>Intelligent</th>\n",
              "      <th>Kind</th>\n",
              "      <th>Responsible</th>\n",
              "      <th>Trustworthy</th>\n",
              "      <th>Aggressive</th>\n",
              "      <th>Caring</th>\n",
              "      <th>Emotional</th>\n",
              "      <th>Friendly</th>\n",
              "      <th>Sociable</th>\n",
              "      <th>Qualified</th>\n",
              "    </tr>\n",
              "    <tr>\n",
              "      <th>Gender</th>\n",
              "      <th></th>\n",
              "      <th></th>\n",
              "      <th></th>\n",
              "      <th></th>\n",
              "      <th></th>\n",
              "      <th></th>\n",
              "      <th></th>\n",
              "      <th></th>\n",
              "      <th></th>\n",
              "      <th></th>\n",
              "      <th></th>\n",
              "      <th></th>\n",
              "    </tr>\n",
              "  </thead>\n",
              "  <tbody>\n",
              "    <tr>\n",
              "      <th>0</th>\n",
              "      <td>6.13</td>\n",
              "      <td>3.5</td>\n",
              "      <td>6.00</td>\n",
              "      <td>6.33</td>\n",
              "      <td>6.20</td>\n",
              "      <td>6.13</td>\n",
              "      <td>3.00</td>\n",
              "      <td>6.27</td>\n",
              "      <td>5.33</td>\n",
              "      <td>6.53</td>\n",
              "      <td>6.40</td>\n",
              "      <td>0</td>\n",
              "    </tr>\n",
              "    <tr>\n",
              "      <th>1</th>\n",
              "      <td>5.93</td>\n",
              "      <td>4.4</td>\n",
              "      <td>5.87</td>\n",
              "      <td>5.53</td>\n",
              "      <td>5.87</td>\n",
              "      <td>5.47</td>\n",
              "      <td>3.88</td>\n",
              "      <td>5.33</td>\n",
              "      <td>4.53</td>\n",
              "      <td>5.73</td>\n",
              "      <td>5.67</td>\n",
              "      <td>0</td>\n",
              "    </tr>\n",
              "  </tbody>\n",
              "</table>\n",
              "</div>"
            ],
            "text/plain": [
              "        Confident  Egotistic  Intelligent  ...  Friendly  Sociable  Qualified\n",
              "Gender                                     ...                               \n",
              "0            6.13        3.5         6.00  ...      6.53      6.40          0\n",
              "1            5.93        4.4         5.87  ...      5.73      5.67          0\n",
              "\n",
              "[2 rows x 12 columns]"
            ]
          },
          "metadata": {
            "tags": []
          },
          "execution_count": 30
        }
      ]
    },
    {
      "cell_type": "code",
      "metadata": {
        "id": "_gINlulSLNyd"
      },
      "source": [
        "gender = data_gender.groupby(by=[\"Gender\"]).mean()"
      ],
      "execution_count": null,
      "outputs": []
    },
    {
      "cell_type": "code",
      "metadata": {
        "colab": {
          "base_uri": "https://localhost:8080/",
          "height": 136
        },
        "id": "84E4ihDELSFr",
        "outputId": "38c37f68-087b-4f18-c86f-07f6270024bd"
      },
      "source": [
        "gender"
      ],
      "execution_count": null,
      "outputs": [
        {
          "output_type": "execute_result",
          "data": {
            "text/html": [
              "<div>\n",
              "<style scoped>\n",
              "    .dataframe tbody tr th:only-of-type {\n",
              "        vertical-align: middle;\n",
              "    }\n",
              "\n",
              "    .dataframe tbody tr th {\n",
              "        vertical-align: top;\n",
              "    }\n",
              "\n",
              "    .dataframe thead th {\n",
              "        text-align: right;\n",
              "    }\n",
              "</style>\n",
              "<table border=\"1\" class=\"dataframe\">\n",
              "  <thead>\n",
              "    <tr style=\"text-align: right;\">\n",
              "      <th></th>\n",
              "      <th>Confident</th>\n",
              "      <th>Egotistic</th>\n",
              "      <th>Intelligent</th>\n",
              "      <th>Kind</th>\n",
              "      <th>Responsible</th>\n",
              "      <th>Trustworthy</th>\n",
              "      <th>Aggressive</th>\n",
              "      <th>Caring</th>\n",
              "      <th>Emotional</th>\n",
              "      <th>Friendly</th>\n",
              "      <th>Sociable</th>\n",
              "      <th>Qualified</th>\n",
              "    </tr>\n",
              "    <tr>\n",
              "      <th>Gender</th>\n",
              "      <th></th>\n",
              "      <th></th>\n",
              "      <th></th>\n",
              "      <th></th>\n",
              "      <th></th>\n",
              "      <th></th>\n",
              "      <th></th>\n",
              "      <th></th>\n",
              "      <th></th>\n",
              "      <th></th>\n",
              "      <th></th>\n",
              "      <th></th>\n",
              "    </tr>\n",
              "  </thead>\n",
              "  <tbody>\n",
              "    <tr>\n",
              "      <th>0</th>\n",
              "      <td>5.994449</td>\n",
              "      <td>3.601511</td>\n",
              "      <td>5.947671</td>\n",
              "      <td>6.172770</td>\n",
              "      <td>6.118059</td>\n",
              "      <td>6.008562</td>\n",
              "      <td>3.127545</td>\n",
              "      <td>6.081123</td>\n",
              "      <td>5.289098</td>\n",
              "      <td>6.314092</td>\n",
              "      <td>6.257156</td>\n",
              "      <td>0.118573</td>\n",
              "    </tr>\n",
              "    <tr>\n",
              "      <th>1</th>\n",
              "      <td>5.865760</td>\n",
              "      <td>4.432829</td>\n",
              "      <td>5.752246</td>\n",
              "      <td>5.303822</td>\n",
              "      <td>5.667762</td>\n",
              "      <td>5.309094</td>\n",
              "      <td>4.110788</td>\n",
              "      <td>5.139165</td>\n",
              "      <td>4.528345</td>\n",
              "      <td>5.450024</td>\n",
              "      <td>5.488266</td>\n",
              "      <td>0.208826</td>\n",
              "    </tr>\n",
              "  </tbody>\n",
              "</table>\n",
              "</div>"
            ],
            "text/plain": [
              "        Confident  Egotistic  Intelligent  ...  Friendly  Sociable  Qualified\n",
              "Gender                                     ...                               \n",
              "0        5.994449   3.601511     5.947671  ...  6.314092  6.257156   0.118573\n",
              "1        5.865760   4.432829     5.752246  ...  5.450024  5.488266   0.208826\n",
              "\n",
              "[2 rows x 12 columns]"
            ]
          },
          "metadata": {
            "tags": []
          },
          "execution_count": 32
        }
      ]
    },
    {
      "cell_type": "markdown",
      "metadata": {
        "id": "0I3KmK7wCrYq"
      },
      "source": [
        "Performing t-tests for all traits"
      ]
    },
    {
      "cell_type": "code",
      "metadata": {
        "id": "dVYgvh69LTAD"
      },
      "source": [
        "from scipy.stats import ttest_ind"
      ],
      "execution_count": null,
      "outputs": []
    },
    {
      "cell_type": "code",
      "metadata": {
        "id": "sFOuD30kMV1x"
      },
      "source": [
        "Gender_1 = data[data['Gender']==0]\n",
        "Gender_2 = data[data['Gender']==1]\n",
        "\n",
        "#ttest_ind(Gender_1['Confident'], Gender_2['Confident'])"
      ],
      "execution_count": null,
      "outputs": []
    },
    {
      "cell_type": "code",
      "metadata": {
        "id": "C2qkRS_GNJ3P"
      },
      "source": [
        "cols = data.columns\n",
        "cols = cols[4:-1]"
      ],
      "execution_count": null,
      "outputs": []
    },
    {
      "cell_type": "code",
      "metadata": {
        "colab": {
          "base_uri": "https://localhost:8080/"
        },
        "id": "Ozl9hWxUM_Hc",
        "outputId": "c1501204-608a-46dc-f7f8-da98d96aad6f"
      },
      "source": [
        "for i in cols:\n",
        "  print(i)\n",
        "  val = ttest_ind(Gender_1[i], Gender_2[i])\n",
        "  print(val)\n",
        "  results[(\"Gender\",i)]= val[1]\n",
        "  print()"
      ],
      "execution_count": null,
      "outputs": [
        {
          "output_type": "stream",
          "text": [
            "Confident\n",
            "Ttest_indResult(statistic=3.66917416692047, pvalue=0.0002490671279198179)\n",
            "\n",
            "Egotistic\n",
            "Ttest_indResult(statistic=-22.7262686753705, pvalue=5.724535735483598e-103)\n",
            "\n",
            "Intelligent\n",
            "Ttest_indResult(statistic=6.202285041707829, pvalue=6.617541566954897e-10)\n",
            "\n",
            "Kind\n",
            "Ttest_indResult(statistic=20.297689926853188, pvalue=3.6772754632964984e-84)\n",
            "\n",
            "Responsible\n",
            "Ttest_indResult(statistic=12.36280978838484, pvalue=5.314276336798082e-34)\n",
            "\n",
            "Trustworthy\n",
            "Ttest_indResult(statistic=18.755142226724622, pvalue=5.706506511591532e-73)\n",
            "\n",
            "Aggressive\n",
            "Ttest_indResult(statistic=-22.47095116212666, pvalue=6.29311355462135e-101)\n",
            "\n",
            "Caring\n",
            "Ttest_indResult(statistic=22.965908793068422, pvalue=6.745136923994714e-105)\n",
            "\n",
            "Emotional\n",
            "Ttest_indResult(statistic=29.83017935114266, pvalue=1.029377924430242e-164)\n",
            "\n",
            "Friendly\n",
            "Ttest_indResult(statistic=17.472988984512813, pvalue=3.7108186188490396e-64)\n",
            "\n",
            "Sociable\n",
            "Ttest_indResult(statistic=17.18204476074865, pvalue=3.1946748840509533e-62)\n",
            "\n"
          ],
          "name": "stdout"
        }
      ]
    },
    {
      "cell_type": "markdown",
      "metadata": {
        "id": "QnmX_gZ0CwQr"
      },
      "source": [
        "P values for Anova tests and t tests"
      ]
    },
    {
      "cell_type": "code",
      "metadata": {
        "colab": {
          "base_uri": "https://localhost:8080/"
        },
        "id": "359eyrBeB-Y9",
        "outputId": "326d44bf-acc1-479c-92d9-60eb1fdd1b9a"
      },
      "source": [
        "|results"
      ],
      "execution_count": null,
      "outputs": [
        {
          "output_type": "execute_result",
          "data": {
            "text/plain": [
              "{('Gender', 'Aggressive'): 6.29311355462135e-101,\n",
              " ('Gender', 'Caring'): 6.745136923994714e-105,\n",
              " ('Gender', 'Confident'): 0.0002490671279198179,\n",
              " ('Gender', 'Egotistic'): 5.724535735483598e-103,\n",
              " ('Gender', 'Emotional'): 1.029377924430242e-164,\n",
              " ('Gender', 'Friendly'): 3.7108186188490396e-64,\n",
              " ('Gender', 'Intelligent'): 6.617541566954897e-10,\n",
              " ('Gender', 'Kind'): 3.6772754632964984e-84,\n",
              " ('Gender', 'Responsible'): 5.314276336798082e-34,\n",
              " ('Gender', 'Sociable'): 3.1946748840509533e-62,\n",
              " ('Gender', 'Trustworthy'): 5.706506511591532e-73,\n",
              " ('Race', 'Aggressive'): 2.7078370672104353e-11,\n",
              " ('Race', 'Caring'): 0.00041893692225684995,\n",
              " ('Race', 'Confident'): 0.5125652685487156,\n",
              " ('Race', 'Egotistic'): 1.4412211501758323e-07,\n",
              " ('Race', 'Emotional'): 0.02319487807768113,\n",
              " ('Race', 'Friendly'): 4.9774464052824096e-05,\n",
              " ('Race', 'Intelligent'): 1.6711926732092035e-15,\n",
              " ('Race', 'Kind'): 0.00012878104123732718,\n",
              " ('Race', 'Responsible'): 8.005057161350754e-11,\n",
              " ('Race', 'Sociable'): 0.03449616164486741,\n",
              " ('Race', 'Trustworthy'): 3.672594877204227e-06}"
            ]
          },
          "metadata": {
            "tags": []
          },
          "execution_count": 37
        }
      ]
    },
    {
      "cell_type": "markdown",
      "metadata": {
        "id": "RWmpXIhBC3tc"
      },
      "source": [
        "Finding the significant results based on significance level = 0.05"
      ]
    },
    {
      "cell_type": "code",
      "metadata": {
        "id": "acrx5PqwEVU6"
      },
      "source": [
        "significant_results={}\n",
        "for i in results:\n",
        "  if results[i]<0.05:\n",
        "    significant_results[i]=results[i]\n",
        "  else:\n",
        "    continue\n",
        "  "
      ],
      "execution_count": null,
      "outputs": []
    },
    {
      "cell_type": "code",
      "metadata": {
        "colab": {
          "base_uri": "https://localhost:8080/"
        },
        "id": "BSi31TN60gdL",
        "outputId": "a8602fd6-984e-4a72-d38d-7a91dcf6974d"
      },
      "source": [
        "significant_results"
      ],
      "execution_count": null,
      "outputs": [
        {
          "output_type": "execute_result",
          "data": {
            "text/plain": [
              "{('Gender', 'Aggressive'): 6.29311355462135e-101,\n",
              " ('Gender', 'Caring'): 6.745136923994714e-105,\n",
              " ('Gender', 'Confident'): 0.0002490671279198179,\n",
              " ('Gender', 'Egotistic'): 5.724535735483598e-103,\n",
              " ('Gender', 'Emotional'): 1.029377924430242e-164,\n",
              " ('Gender', 'Friendly'): 3.7108186188490396e-64,\n",
              " ('Gender', 'Intelligent'): 6.617541566954897e-10,\n",
              " ('Gender', 'Kind'): 3.6772754632964984e-84,\n",
              " ('Gender', 'Responsible'): 5.314276336798082e-34,\n",
              " ('Gender', 'Sociable'): 3.1946748840509533e-62,\n",
              " ('Gender', 'Trustworthy'): 5.706506511591532e-73,\n",
              " ('Race', 'Aggressive'): 2.7078370672104353e-11,\n",
              " ('Race', 'Caring'): 0.00041893692225684995,\n",
              " ('Race', 'Egotistic'): 1.4412211501758323e-07,\n",
              " ('Race', 'Emotional'): 0.02319487807768113,\n",
              " ('Race', 'Friendly'): 4.9774464052824096e-05,\n",
              " ('Race', 'Intelligent'): 1.6711926732092035e-15,\n",
              " ('Race', 'Kind'): 0.00012878104123732718,\n",
              " ('Race', 'Responsible'): 8.005057161350754e-11,\n",
              " ('Race', 'Sociable'): 0.03449616164486741,\n",
              " ('Race', 'Trustworthy'): 3.672594877204227e-06}"
            ]
          },
          "metadata": {
            "tags": []
          },
          "execution_count": 45
        }
      ]
    },
    {
      "cell_type": "markdown",
      "metadata": {
        "id": "3B7nykpZC9oa"
      },
      "source": [
        "Top 5 significant biases"
      ]
    },
    {
      "cell_type": "code",
      "metadata": {
        "colab": {
          "base_uri": "https://localhost:8080/"
        },
        "id": "fg2jo-Gxu4wB",
        "outputId": "9a76003e-06ba-499e-dcc8-ec2c20ddf8e3"
      },
      "source": [
        "sorted_results = sorted(significant_results.items(), key=lambda x: x[1])    \n",
        "final = sorted_results\n",
        "print(final[:5])"
      ],
      "execution_count": null,
      "outputs": [
        {
          "output_type": "stream",
          "text": [
            "[(('Gender', 'Emotional'), 1.029377924430242e-164), (('Gender', 'Caring'), 6.745136923994714e-105), (('Gender', 'Egotistic'), 5.724535735483598e-103), (('Gender', 'Aggressive'), 6.29311355462135e-101), (('Gender', 'Kind'), 3.6772754632964984e-84)]\n"
          ],
          "name": "stdout"
        }
      ]
    },
    {
      "cell_type": "code",
      "metadata": {
        "id": "wQ9OpEiUE588"
      },
      "source": [
        "trieal = {('Race', 'Aggressive'): 2.7078370672104353e-11,\n",
        " ('Race', 'Caring'): 0.00041893692225684995,\n",
        " ('Race', 'Confident'): 0.5125652685487156,\n",
        " ('Race', 'Egotistic'): 1.4412211501758323e-07,\n",
        " ('Race', 'Emotional'): 0.02319487807768113,\n",
        " ('Race', 'Friendly'): 4.9774464052824096e-05,\n",
        " ('Race', 'Intelligent'): 1.6711926732092035e-15,\n",
        " ('Race', 'Kind'): 0.00012878104123732718,\n",
        " ('Race', 'Responsible'): 8.005057161350754e-11,\n",
        " ('Race', 'Sociable'): 0.03449616164486741,\n",
        " ('Race', 'Trustworthy'): 3.672594877204227e-06}"
      ],
      "execution_count": null,
      "outputs": []
    },
    {
      "cell_type": "code",
      "metadata": {
        "colab": {
          "base_uri": "https://localhost:8080/"
        },
        "id": "PSXZA8G3E8iL",
        "outputId": "f5fdac50-6928-4db7-94fb-71fba0561e58"
      },
      "source": [
        "sorted(trieal.items(), key=lambda x: x[1])  "
      ],
      "execution_count": null,
      "outputs": [
        {
          "output_type": "execute_result",
          "data": {
            "text/plain": [
              "[(('Race', 'Intelligent'), 1.6711926732092035e-15),\n",
              " (('Race', 'Aggressive'), 2.7078370672104353e-11),\n",
              " (('Race', 'Responsible'), 8.005057161350754e-11),\n",
              " (('Race', 'Egotistic'), 1.4412211501758323e-07),\n",
              " (('Race', 'Trustworthy'), 3.672594877204227e-06),\n",
              " (('Race', 'Friendly'), 4.9774464052824096e-05),\n",
              " (('Race', 'Kind'), 0.00012878104123732718),\n",
              " (('Race', 'Caring'), 0.00041893692225684995),\n",
              " (('Race', 'Emotional'), 0.02319487807768113),\n",
              " (('Race', 'Sociable'), 0.03449616164486741),\n",
              " (('Race', 'Confident'), 0.5125652685487156)]"
            ]
          },
          "metadata": {
            "tags": []
          },
          "execution_count": 40
        }
      ]
    },
    {
      "cell_type": "markdown",
      "metadata": {
        "id": "sGfoTFduDAVC"
      },
      "source": [
        "Plotting the significant bias for Gender for trait: Emotional"
      ]
    },
    {
      "cell_type": "code",
      "metadata": {
        "id": "B4cMKePe0kpH"
      },
      "source": [
        "import numpy as np"
      ],
      "execution_count": null,
      "outputs": []
    },
    {
      "cell_type": "code",
      "metadata": {
        "id": "cqawksCYxRSE"
      },
      "source": [
        "hist_male = {}\n",
        "hist_female={}\n",
        "values=[]\n",
        "values_1=[]\n",
        "for row,i in data.iterrows():\n",
        "  #print(i[\"Gender\"])\n",
        "  if i[\"Gender\"]==0:\n",
        "    key=i[\"Emotional\"]\n",
        "    hist_female[key] = hist_female.get(key, 0) + 1\n",
        "    values.append(key)\n",
        "  elif i[\"Gender\"]==1:\n",
        "    key=i[\"Emotional\"]\n",
        "    hist_male[key] = hist_male.get(key, 0) + 1\n",
        "    values_1.append(key)\n"
      ],
      "execution_count": 31,
      "outputs": []
    },
    {
      "cell_type": "code",
      "metadata": {
        "colab": {
          "base_uri": "https://localhost:8080/",
          "height": 333
        },
        "id": "hST-y7GR55T0",
        "outputId": "8a0aeb89-028f-4bef-efa8-61340d35dd65"
      },
      "source": [
        "import pandas as pd\n",
        "import pdb\n",
        "import matplotlib.pyplot as plt\n",
        "\n",
        "fig = plt.figure()\n",
        "ax = fig.add_subplot(1,1,1)\n",
        "ax.hist([values,values_1], bins=[2,3,4,5,6,7], density=True, label=['Female','Male'])\n",
        "ax.set_xlabel(\"Emotional Scores\")\n",
        "ax.set_ylabel(\"Normalized counts\")\n",
        "ax.legend(labels=['Female','Male'])\n",
        "fig.show()"
      ],
      "execution_count": 32,
      "outputs": [
        {
          "output_type": "stream",
          "text": [
            "/usr/local/lib/python3.7/dist-packages/numpy/core/_asarray.py:83: VisibleDeprecationWarning: Creating an ndarray from ragged nested sequences (which is a list-or-tuple of lists-or-tuples-or ndarrays with different lengths or shapes) is deprecated. If you meant to do this, you must specify 'dtype=object' when creating the ndarray\n",
            "  return array(a, dtype, copy=False, order=order)\n"
          ],
          "name": "stderr"
        },
        {
          "output_type": "display_data",
          "data": {
            "image/png": "[encoded data removed]",
            "text/plain": [
              "<Figure size 432x288 with 1 Axes>"
            ]
          },
          "metadata": {
            "tags": [],
            "needs_background": "light"
          }
        }
      ]
    },
    {
      "cell_type": "markdown",
      "metadata": {
        "id": "pcD9vKuqDKUb"
      },
      "source": [
        "Plotting the significant bias for Race for trait: Intelligent"
      ]
    },
    {
      "cell_type": "code",
      "metadata": {
        "id": "9CjqwHFea1v1"
      },
      "source": [
        "hist_race_1 = {}\n",
        "hist_race_2={}\n",
        "hist_race_3={}\n",
        "values_1=[]\n",
        "values_2=[]\n",
        "values_3=[]\n",
        "for row,i in data.iterrows():\n",
        "  #print(i[\"Gender\"])\n",
        "  if i[\"Race\"]==1:\n",
        "    key=i[\"Intelligent\"]\n",
        "    hist_race_1[key] = hist_race_1.get(key, 0) + 1\n",
        "    values_1.append(key)\n",
        "  elif i[\"Race\"]==2:\n",
        "    key=i[\"Intelligent\"]\n",
        "    hist_race_2[key] = hist_race_2.get(key, 0) + 1\n",
        "    values_2.append(key)\n",
        "  elif i[\"Race\"]==3:\n",
        "    key=i[\"Intelligent\"]\n",
        "    hist_race_3[key] = hist_race_3.get(key, 0) + 1\n",
        "    values_3.append(key)\n"
      ],
      "execution_count": 34,
      "outputs": []
    },
    {
      "cell_type": "code",
      "metadata": {
        "colab": {
          "base_uri": "https://localhost:8080/",
          "height": 333
        },
        "id": "hOiZKj8N8wD1",
        "outputId": "eb39b476-f84e-4610-955a-c065d24f5897"
      },
      "source": [
        "import pandas as pd\n",
        "import pdb\n",
        "import matplotlib.pyplot as plt\n",
        "\n",
        "fig = plt.figure()\n",
        "ax = fig.add_subplot(1,1,1)\n",
        "ax.hist([values_1,values_2,values_3], bins=[2,3,4,5,6,7,8], density=True, label=['white','black','east asian'])\n",
        "ax.set_xlabel(\"Intelligent Scores\")\n",
        "ax.set_ylabel(\"Normalized counts\")\n",
        "ax.legend(labels=['White', 'Black','East Asian'])\n",
        "fig.show()"
      ],
      "execution_count": 35,
      "outputs": [
        {
          "output_type": "stream",
          "text": [
            "/usr/local/lib/python3.7/dist-packages/numpy/core/_asarray.py:83: VisibleDeprecationWarning: Creating an ndarray from ragged nested sequences (which is a list-or-tuple of lists-or-tuples-or ndarrays with different lengths or shapes) is deprecated. If you meant to do this, you must specify 'dtype=object' when creating the ndarray\n",
            "  return array(a, dtype, copy=False, order=order)\n"
          ],
          "name": "stderr"
        },
        {
          "output_type": "display_data",
          "data": {
            "image/png": "[encoded data removed]",
            "text/plain": [
              "<Figure size 432x288 with 1 Axes>"
            ]
          },
          "metadata": {
            "tags": [],
            "needs_background": "light"
          }
        }
      ]
    },
    {
      "cell_type": "markdown",
      "metadata": {
        "id": "no-xJVrZDP9r"
      },
      "source": [
        "Calculation the Selection rate based on race"
      ]
    },
    {
      "cell_type": "code",
      "metadata": {
        "id": "hJqtiN2r8Ahv"
      },
      "source": [
        "comparison_race_sum = data_race.groupby(by=[\"Race\"]).sum()"
      ],
      "execution_count": null,
      "outputs": []
    },
    {
      "cell_type": "code",
      "metadata": {
        "colab": {
          "base_uri": "https://localhost:8080/",
          "height": 166
        },
        "id": "7OabTYg1OSld",
        "outputId": "cfa6d221-5494-40b6-de32-df94d20f3c7a"
      },
      "source": [
        "comparison_race_sum"
      ],
      "execution_count": null,
      "outputs": [
        {
          "output_type": "execute_result",
          "data": {
            "text/html": [
              "<div>\n",
              "<style scoped>\n",
              "    .dataframe tbody tr th:only-of-type {\n",
              "        vertical-align: middle;\n",
              "    }\n",
              "\n",
              "    .dataframe tbody tr th {\n",
              "        vertical-align: top;\n",
              "    }\n",
              "\n",
              "    .dataframe thead th {\n",
              "        text-align: right;\n",
              "    }\n",
              "</style>\n",
              "<table border=\"1\" class=\"dataframe\">\n",
              "  <thead>\n",
              "    <tr style=\"text-align: right;\">\n",
              "      <th></th>\n",
              "      <th>Confident</th>\n",
              "      <th>Egotistic</th>\n",
              "      <th>Intelligent</th>\n",
              "      <th>Kind</th>\n",
              "      <th>Responsible</th>\n",
              "      <th>Trustworthy</th>\n",
              "      <th>Aggressive</th>\n",
              "      <th>Caring</th>\n",
              "      <th>Emotional</th>\n",
              "      <th>Friendly</th>\n",
              "      <th>Sociable</th>\n",
              "      <th>Qualified</th>\n",
              "    </tr>\n",
              "    <tr>\n",
              "      <th>Race</th>\n",
              "      <th></th>\n",
              "      <th></th>\n",
              "      <th></th>\n",
              "      <th></th>\n",
              "      <th></th>\n",
              "      <th></th>\n",
              "      <th></th>\n",
              "      <th></th>\n",
              "      <th></th>\n",
              "      <th></th>\n",
              "      <th></th>\n",
              "      <th></th>\n",
              "    </tr>\n",
              "  </thead>\n",
              "  <tbody>\n",
              "    <tr>\n",
              "      <th>1</th>\n",
              "      <td>10878.50</td>\n",
              "      <td>7449.01</td>\n",
              "      <td>10765.71</td>\n",
              "      <td>10493.65</td>\n",
              "      <td>10842.46</td>\n",
              "      <td>10364.34</td>\n",
              "      <td>6677.46</td>\n",
              "      <td>10245.19</td>\n",
              "      <td>8941.23</td>\n",
              "      <td>10772.76</td>\n",
              "      <td>10744.10</td>\n",
              "      <td>336</td>\n",
              "    </tr>\n",
              "    <tr>\n",
              "      <th>2</th>\n",
              "      <td>1312.94</td>\n",
              "      <td>950.96</td>\n",
              "      <td>1216.30</td>\n",
              "      <td>1188.99</td>\n",
              "      <td>1213.13</td>\n",
              "      <td>1176.27</td>\n",
              "      <td>908.25</td>\n",
              "      <td>1167.20</td>\n",
              "      <td>1041.11</td>\n",
              "      <td>1209.70</td>\n",
              "      <td>1242.44</td>\n",
              "      <td>27</td>\n",
              "    </tr>\n",
              "    <tr>\n",
              "      <th>3</th>\n",
              "      <td>367.68</td>\n",
              "      <td>227.08</td>\n",
              "      <td>398.03</td>\n",
              "      <td>369.01</td>\n",
              "      <td>387.20</td>\n",
              "      <td>369.59</td>\n",
              "      <td>202.71</td>\n",
              "      <td>362.34</td>\n",
              "      <td>305.25</td>\n",
              "      <td>380.73</td>\n",
              "      <td>367.33</td>\n",
              "      <td>11</td>\n",
              "    </tr>\n",
              "  </tbody>\n",
              "</table>\n",
              "</div>"
            ],
            "text/plain": [
              "      Confident  Egotistic  Intelligent  ...  Friendly  Sociable  Qualified\n",
              "Race                                     ...                               \n",
              "1      10878.50    7449.01     10765.71  ...  10772.76  10744.10        336\n",
              "2       1312.94     950.96      1216.30  ...   1209.70   1242.44         27\n",
              "3        367.68     227.08       398.03  ...    380.73    367.33         11\n",
              "\n",
              "[3 rows x 12 columns]"
            ]
          },
          "metadata": {
            "tags": []
          },
          "execution_count": 67
        }
      ]
    },
    {
      "cell_type": "code",
      "metadata": {
        "id": "-wkyGALUPsh9"
      },
      "source": [
        "comparison_race_count = data_race.groupby(by=[\"Race\"]).count()"
      ],
      "execution_count": null,
      "outputs": []
    },
    {
      "cell_type": "code",
      "metadata": {
        "colab": {
          "base_uri": "https://localhost:8080/",
          "height": 166
        },
        "id": "IObz12HsQBQq",
        "outputId": "c9550132-fe84-499e-86ee-33d54e889beb"
      },
      "source": [
        "comparison_race_count"
      ],
      "execution_count": null,
      "outputs": [
        {
          "output_type": "execute_result",
          "data": {
            "text/html": [
              "<div>\n",
              "<style scoped>\n",
              "    .dataframe tbody tr th:only-of-type {\n",
              "        vertical-align: middle;\n",
              "    }\n",
              "\n",
              "    .dataframe tbody tr th {\n",
              "        vertical-align: top;\n",
              "    }\n",
              "\n",
              "    .dataframe thead th {\n",
              "        text-align: right;\n",
              "    }\n",
              "</style>\n",
              "<table border=\"1\" class=\"dataframe\">\n",
              "  <thead>\n",
              "    <tr style=\"text-align: right;\">\n",
              "      <th></th>\n",
              "      <th>Filename</th>\n",
              "      <th>Confident</th>\n",
              "      <th>Egotistic</th>\n",
              "      <th>Intelligent</th>\n",
              "      <th>Kind</th>\n",
              "      <th>Responsible</th>\n",
              "      <th>Trustworthy</th>\n",
              "      <th>Aggressive</th>\n",
              "      <th>Caring</th>\n",
              "      <th>Emotional</th>\n",
              "      <th>Friendly</th>\n",
              "      <th>Sociable</th>\n",
              "      <th>Qualified</th>\n",
              "    </tr>\n",
              "    <tr>\n",
              "      <th>Race</th>\n",
              "      <th></th>\n",
              "      <th></th>\n",
              "      <th></th>\n",
              "      <th></th>\n",
              "      <th></th>\n",
              "      <th></th>\n",
              "      <th></th>\n",
              "      <th></th>\n",
              "      <th></th>\n",
              "      <th></th>\n",
              "      <th></th>\n",
              "      <th></th>\n",
              "      <th></th>\n",
              "    </tr>\n",
              "  </thead>\n",
              "  <tbody>\n",
              "    <tr>\n",
              "      <th>1</th>\n",
              "      <td>1836</td>\n",
              "      <td>1836</td>\n",
              "      <td>1836</td>\n",
              "      <td>1836</td>\n",
              "      <td>1836</td>\n",
              "      <td>1836</td>\n",
              "      <td>1836</td>\n",
              "      <td>1836</td>\n",
              "      <td>1836</td>\n",
              "      <td>1836</td>\n",
              "      <td>1836</td>\n",
              "      <td>1836</td>\n",
              "      <td>1836</td>\n",
              "    </tr>\n",
              "    <tr>\n",
              "      <th>2</th>\n",
              "      <td>220</td>\n",
              "      <td>220</td>\n",
              "      <td>220</td>\n",
              "      <td>220</td>\n",
              "      <td>220</td>\n",
              "      <td>220</td>\n",
              "      <td>220</td>\n",
              "      <td>220</td>\n",
              "      <td>220</td>\n",
              "      <td>220</td>\n",
              "      <td>220</td>\n",
              "      <td>220</td>\n",
              "      <td>220</td>\n",
              "    </tr>\n",
              "    <tr>\n",
              "      <th>3</th>\n",
              "      <td>63</td>\n",
              "      <td>63</td>\n",
              "      <td>63</td>\n",
              "      <td>63</td>\n",
              "      <td>63</td>\n",
              "      <td>63</td>\n",
              "      <td>63</td>\n",
              "      <td>63</td>\n",
              "      <td>63</td>\n",
              "      <td>63</td>\n",
              "      <td>63</td>\n",
              "      <td>63</td>\n",
              "      <td>63</td>\n",
              "    </tr>\n",
              "  </tbody>\n",
              "</table>\n",
              "</div>"
            ],
            "text/plain": [
              "      Filename  Confident  Egotistic  ...  Friendly  Sociable  Qualified\n",
              "Race                                  ...                               \n",
              "1         1836       1836       1836  ...      1836      1836       1836\n",
              "2          220        220        220  ...       220       220        220\n",
              "3           63         63         63  ...        63        63         63\n",
              "\n",
              "[3 rows x 13 columns]"
            ]
          },
          "metadata": {
            "tags": []
          },
          "execution_count": 69
        }
      ]
    },
    {
      "cell_type": "code",
      "metadata": {
        "id": "2R3gaRGSQCPr"
      },
      "source": [
        "res= (comparison_race_sum/comparison_race_count)['Qualified']"
      ],
      "execution_count": null,
      "outputs": []
    },
    {
      "cell_type": "markdown",
      "metadata": {
        "id": "FwhbtDa2DdhL"
      },
      "source": [
        "Selection rates for Race: 1 (White), 2 (Black), 3 (East Asian)\n",
        "\n",
        "\n"
      ]
    },
    {
      "cell_type": "code",
      "metadata": {
        "colab": {
          "base_uri": "https://localhost:8080/"
        },
        "id": "bEAlTrrwIe17",
        "outputId": "cd6f1fb8-4c96-4b78-a64f-2b5872049ea0"
      },
      "source": [
        "res"
      ],
      "execution_count": null,
      "outputs": [
        {
          "output_type": "execute_result",
          "data": {
            "text/plain": [
              "Race\n",
              "1    0.183007\n",
              "2    0.122727\n",
              "3    0.174603\n",
              "Name: Qualified, dtype: float64"
            ]
          },
          "metadata": {
            "tags": []
          },
          "execution_count": 71
        }
      ]
    },
    {
      "cell_type": "markdown",
      "metadata": {
        "id": "byqNKVZgDaTL"
      },
      "source": [
        "Calculation the Selection rate based on gender"
      ]
    },
    {
      "cell_type": "code",
      "metadata": {
        "id": "KnIdIKDFIr8A"
      },
      "source": [
        "comparison_gender_sum = data.groupby(by=[\"Gender\"]).sum()"
      ],
      "execution_count": null,
      "outputs": []
    },
    {
      "cell_type": "code",
      "metadata": {
        "colab": {
          "base_uri": "https://localhost:8080/",
          "height": 156
        },
        "id": "2lsz-qOxbIpU",
        "outputId": "1a1bb341-c5cb-41a8-d487-c61a4bf1a9c3"
      },
      "source": [
        "comparison_gender_sum"
      ],
      "execution_count": null,
      "outputs": [
        {
          "output_type": "execute_result",
          "data": {
            "text/html": [
              "<div>\n",
              "<style scoped>\n",
              "    .dataframe tbody tr th:only-of-type {\n",
              "        vertical-align: middle;\n",
              "    }\n",
              "\n",
              "    .dataframe tbody tr th {\n",
              "        vertical-align: top;\n",
              "    }\n",
              "\n",
              "    .dataframe thead th {\n",
              "        text-align: right;\n",
              "    }\n",
              "</style>\n",
              "<table border=\"1\" class=\"dataframe\">\n",
              "  <thead>\n",
              "    <tr style=\"text-align: right;\">\n",
              "      <th></th>\n",
              "      <th>Image #</th>\n",
              "      <th>Race</th>\n",
              "      <th>Confident</th>\n",
              "      <th>Egotistic</th>\n",
              "      <th>Intelligent</th>\n",
              "      <th>Kind</th>\n",
              "      <th>Responsible</th>\n",
              "      <th>Trustworthy</th>\n",
              "      <th>Aggressive</th>\n",
              "      <th>Caring</th>\n",
              "      <th>Emotional</th>\n",
              "      <th>Friendly</th>\n",
              "      <th>Sociable</th>\n",
              "      <th>Qualified</th>\n",
              "    </tr>\n",
              "    <tr>\n",
              "      <th>Gender</th>\n",
              "      <th></th>\n",
              "      <th></th>\n",
              "      <th></th>\n",
              "      <th></th>\n",
              "      <th></th>\n",
              "      <th></th>\n",
              "      <th></th>\n",
              "      <th></th>\n",
              "      <th></th>\n",
              "      <th></th>\n",
              "      <th></th>\n",
              "      <th></th>\n",
              "      <th></th>\n",
              "      <th></th>\n",
              "    </tr>\n",
              "  </thead>\n",
              "  <tbody>\n",
              "    <tr>\n",
              "      <th>0</th>\n",
              "      <td>1076133</td>\n",
              "      <td>1294</td>\n",
              "      <td>5712.71</td>\n",
              "      <td>3432.24</td>\n",
              "      <td>5668.13</td>\n",
              "      <td>5882.65</td>\n",
              "      <td>5830.51</td>\n",
              "      <td>5726.16</td>\n",
              "      <td>2980.55</td>\n",
              "      <td>5795.31</td>\n",
              "      <td>5040.51</td>\n",
              "      <td>6017.33</td>\n",
              "      <td>5963.07</td>\n",
              "      <td>113</td>\n",
              "    </tr>\n",
              "    <tr>\n",
              "      <th>1</th>\n",
              "      <td>1393620</td>\n",
              "      <td>1695</td>\n",
              "      <td>7443.65</td>\n",
              "      <td>5625.26</td>\n",
              "      <td>7299.60</td>\n",
              "      <td>6730.55</td>\n",
              "      <td>7192.39</td>\n",
              "      <td>6737.24</td>\n",
              "      <td>5216.59</td>\n",
              "      <td>6521.60</td>\n",
              "      <td>5746.47</td>\n",
              "      <td>6916.08</td>\n",
              "      <td>6964.61</td>\n",
              "      <td>265</td>\n",
              "    </tr>\n",
              "  </tbody>\n",
              "</table>\n",
              "</div>"
            ],
            "text/plain": [
              "        Image #  Race  Confident  ...  Friendly  Sociable  Qualified\n",
              "Gender                            ...                               \n",
              "0       1076133  1294    5712.71  ...   6017.33   5963.07        113\n",
              "1       1393620  1695    7443.65  ...   6916.08   6964.61        265\n",
              "\n",
              "[2 rows x 14 columns]"
            ]
          },
          "metadata": {
            "tags": []
          },
          "execution_count": 73
        }
      ]
    },
    {
      "cell_type": "code",
      "metadata": {
        "id": "uSYnvB0tbKAT"
      },
      "source": [
        "comparison_gender_count = data.groupby(by=[\"Gender\"]).count()"
      ],
      "execution_count": null,
      "outputs": []
    },
    {
      "cell_type": "code",
      "metadata": {
        "colab": {
          "base_uri": "https://localhost:8080/",
          "height": 173
        },
        "id": "fZSOln7NbM7g",
        "outputId": "b84602f2-7f9b-428a-fe5b-e211cd06fead"
      },
      "source": [
        "comparison_gender_count"
      ],
      "execution_count": null,
      "outputs": [
        {
          "output_type": "execute_result",
          "data": {
            "text/html": [
              "<div>\n",
              "<style scoped>\n",
              "    .dataframe tbody tr th:only-of-type {\n",
              "        vertical-align: middle;\n",
              "    }\n",
              "\n",
              "    .dataframe tbody tr th {\n",
              "        vertical-align: top;\n",
              "    }\n",
              "\n",
              "    .dataframe thead th {\n",
              "        text-align: right;\n",
              "    }\n",
              "</style>\n",
              "<table border=\"1\" class=\"dataframe\">\n",
              "  <thead>\n",
              "    <tr style=\"text-align: right;\">\n",
              "      <th></th>\n",
              "      <th>Filename</th>\n",
              "      <th>Image #</th>\n",
              "      <th>Race</th>\n",
              "      <th>Confident</th>\n",
              "      <th>Egotistic</th>\n",
              "      <th>Intelligent</th>\n",
              "      <th>Kind</th>\n",
              "      <th>Responsible</th>\n",
              "      <th>Trustworthy</th>\n",
              "      <th>Aggressive</th>\n",
              "      <th>Caring</th>\n",
              "      <th>Emotional</th>\n",
              "      <th>Friendly</th>\n",
              "      <th>Sociable</th>\n",
              "      <th>Qualified</th>\n",
              "    </tr>\n",
              "    <tr>\n",
              "      <th>Gender</th>\n",
              "      <th></th>\n",
              "      <th></th>\n",
              "      <th></th>\n",
              "      <th></th>\n",
              "      <th></th>\n",
              "      <th></th>\n",
              "      <th></th>\n",
              "      <th></th>\n",
              "      <th></th>\n",
              "      <th></th>\n",
              "      <th></th>\n",
              "      <th></th>\n",
              "      <th></th>\n",
              "      <th></th>\n",
              "      <th></th>\n",
              "    </tr>\n",
              "  </thead>\n",
              "  <tbody>\n",
              "    <tr>\n",
              "      <th>0</th>\n",
              "      <td>953</td>\n",
              "      <td>953</td>\n",
              "      <td>953</td>\n",
              "      <td>953</td>\n",
              "      <td>953</td>\n",
              "      <td>953</td>\n",
              "      <td>953</td>\n",
              "      <td>953</td>\n",
              "      <td>953</td>\n",
              "      <td>953</td>\n",
              "      <td>953</td>\n",
              "      <td>953</td>\n",
              "      <td>953</td>\n",
              "      <td>953</td>\n",
              "      <td>953</td>\n",
              "    </tr>\n",
              "    <tr>\n",
              "      <th>1</th>\n",
              "      <td>1269</td>\n",
              "      <td>1269</td>\n",
              "      <td>1269</td>\n",
              "      <td>1269</td>\n",
              "      <td>1269</td>\n",
              "      <td>1269</td>\n",
              "      <td>1269</td>\n",
              "      <td>1269</td>\n",
              "      <td>1269</td>\n",
              "      <td>1269</td>\n",
              "      <td>1269</td>\n",
              "      <td>1269</td>\n",
              "      <td>1269</td>\n",
              "      <td>1269</td>\n",
              "      <td>1269</td>\n",
              "    </tr>\n",
              "  </tbody>\n",
              "</table>\n",
              "</div>"
            ],
            "text/plain": [
              "        Filename  Image #  Race  ...  Friendly  Sociable  Qualified\n",
              "Gender                           ...                               \n",
              "0            953      953   953  ...       953       953        953\n",
              "1           1269     1269  1269  ...      1269      1269       1269\n",
              "\n",
              "[2 rows x 15 columns]"
            ]
          },
          "metadata": {
            "tags": []
          },
          "execution_count": 75
        }
      ]
    },
    {
      "cell_type": "code",
      "metadata": {
        "id": "5aXV55EWbOLu"
      },
      "source": [
        "res= (comparison_gender_sum/comparison_gender_count)['Qualified']"
      ],
      "execution_count": null,
      "outputs": []
    },
    {
      "cell_type": "markdown",
      "metadata": {
        "id": "qzC-uvluD0Fj"
      },
      "source": [
        "Selection rates for gender: 0 (Female), 1 (Male)"
      ]
    },
    {
      "cell_type": "code",
      "metadata": {
        "colab": {
          "base_uri": "https://localhost:8080/"
        },
        "id": "MRkQpua2bQQq",
        "outputId": "17b1e419-fc25-4395-84cd-de0b3f7dbc3b"
      },
      "source": [
        "res"
      ],
      "execution_count": null,
      "outputs": [
        {
          "output_type": "execute_result",
          "data": {
            "text/plain": [
              "Gender\n",
              "0    0.118573\n",
              "1    0.208826\n",
              "Name: Qualified, dtype: float64"
            ]
          },
          "metadata": {
            "tags": []
          },
          "execution_count": 73
        }
      ]
    },
    {
      "cell_type": "code",
      "metadata": {
        "id": "_KJt39AoodCS"
      },
      "source": [
        ""
      ],
      "execution_count": null,
      "outputs": []
    }
  ]
}